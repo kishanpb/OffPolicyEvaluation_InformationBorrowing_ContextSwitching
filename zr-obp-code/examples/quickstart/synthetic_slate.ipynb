{
 "cells": [
  {
   "cell_type": "markdown",
   "metadata": {},
   "source": [
    "# Quickstart Example with Synthetic Slate Bandit Data\n",
    "---\n",
    "This notebook provides an example of conducting OPE of several different evaluation policies with synthetic slate bandit feedback data.\n",
    "\n",
    "Our example with synthetic bandit data contains the follwoing four major steps:\n",
    "- (1) Synthetic Slate Data Generation\n",
    "- (2) Defining Evaluation Policy\n",
    "- (3) Off-Policy Evaluation\n",
    "- (4) Evaluation of OPE Estimators\n",
    "\n",
    "The second step could be replaced by some Off-Policy Learning (OPL) step, but obp still does not implement any OPL module for slate bandit data. Implementing OPL for slate bandit data is our future work.\n",
    "\n",
    "<!-- Please see [../examples/synthetic_slate](../synthetic_slate) for a more sophisticated example of the evaluation of OPE with synthetic slate bandit data. -->"
   ]
  },
  {
   "cell_type": "code",
   "execution_count": 1,
   "metadata": {},
   "outputs": [],
   "source": [
    "import numpy as np\n",
    "import pandas as pd\n",
    "# import open bandit pipeline (obp)\n",
    "import obp\n",
    "\n",
    "from obp.ope import SlateStandardIPS, SlateIndependentIPS, SlateRewardInteractionIPS, SlateOffPolicyEvaluation\n",
    "from obp.dataset import (\n",
    "    logistic_reward_function,\n",
    "    SyntheticSlateBanditDataset,\n",
    ")"
   ]
  },
  {
   "cell_type": "code",
   "execution_count": 2,
   "metadata": {},
   "outputs": [],
   "source": [
    "from itertools import product\n",
    "from copy import deepcopy"
   ]
  },
  {
   "cell_type": "code",
   "execution_count": 3,
   "metadata": {},
   "outputs": [],
   "source": [
    "import matplotlib.pyplot as plt\n",
    "import seaborn as sns"
   ]
  },
  {
   "cell_type": "code",
   "execution_count": 4,
   "metadata": {},
   "outputs": [
    {
     "name": "stdout",
     "output_type": "stream",
     "text": [
      "0.4.0\n"
     ]
    }
   ],
   "source": [
    "# obp version\n",
    "print(obp.__version__)"
   ]
  },
  {
   "cell_type": "code",
   "execution_count": 5,
   "metadata": {},
   "outputs": [],
   "source": [
    "import warnings\n",
    "warnings.filterwarnings('ignore')"
   ]
  },
  {
   "cell_type": "code",
   "execution_count": null,
   "metadata": {},
   "outputs": [],
   "source": []
  },
  {
   "cell_type": "markdown",
   "metadata": {},
   "source": [
    "## (1) Synthetic Slate Data Generation\n",
    "We prepare easy-to-use synthetic slate data generator: `SyntheticSlateBanditDataset` class in the dataset module.\n",
    "\n",
    "It takes the following arguments as inputs and generates a synthetic bandit dataset that can be used to evaluate the performance of decision making policies (obtained by `off-policy learning`) and OPE estimators.\n",
    "- length of a list of actions recommended in each slate. (`len_list`)\n",
    "- number of unique actions (`n_unique_actions`)\n",
    "- dimension of context vectors (`dim_context`)\n",
    "- reward type (`reward_type`)\n",
    "- reward structure (`reward_structure`)\n",
    "- click model (`click_model`)\n",
    "- base reward function (`base_reward_function`)\n",
    "- behavior policy (`behavior_policy_function`)\n",
    "\n",
    "We use a uniform random policy as a behavior policy here."
   ]
  },
  {
   "cell_type": "code",
   "execution_count": 6,
   "metadata": {
    "tags": []
   },
   "outputs": [],
   "source": [
    "# generate a synthetic bandit dataset with 10 actions\n",
    "# we use `logistic_reward_function` as the reward function and `linear_behavior_policy_logit` as the behavior policy.\n",
    "# one can define their own reward function and behavior policy such as nonlinear ones. \n",
    "\n",
    "n_unique_action=10\n",
    "len_list = 3\n",
    "dim_context = 2\n",
    "reward_type = \"binary\"\n",
    "reward_structure=\"cascade_additive\"\n",
    "click_model=None\n",
    "random_state=12345\n",
    "base_reward_function=logistic_reward_function\n",
    "\n",
    "# obtain  test sets of synthetic logged bandit feedback\n",
    "n_rounds_test = 10000"
   ]
  },
  {
   "cell_type": "code",
   "execution_count": 7,
   "metadata": {},
   "outputs": [
    {
     "name": "stderr",
     "output_type": "stream",
     "text": [
      "[sample_action_and_obtain_pscore]: 100%|██████████| 10000/10000 [00:01<00:00, 6149.51it/s]"
     ]
    },
    {
     "name": "stdout",
     "output_type": "stream",
     "text": [
      "1.8366\n"
     ]
    },
    {
     "name": "stderr",
     "output_type": "stream",
     "text": [
      "\n"
     ]
    }
   ],
   "source": [
    "# define Uniform Random Policy as a baseline behavior policy\n",
    "dataset_with_random_behavior = SyntheticSlateBanditDataset(\n",
    "    n_unique_action=n_unique_action,\n",
    "    len_list=len_list,\n",
    "    dim_context=dim_context,\n",
    "    reward_type=reward_type,\n",
    "    reward_structure=reward_structure,\n",
    "    click_model=click_model,\n",
    "    random_state=random_state,\n",
    "    behavior_policy_function=None,  # set to uniform random\n",
    "    base_reward_function=base_reward_function,\n",
    ")\n",
    "\n",
    "# compute the factual action choice probabililties for the test set of the synthetic logged bandit feedback\n",
    "bandit_feedback_with_random_behavior = dataset_with_random_behavior.obtain_batch_bandit_feedback(\n",
    "    n_rounds=n_rounds_test,\n",
    "    return_pscore_item_position=True,\n",
    ")\n",
    "\n",
    "# print policy value\n",
    "random_policy_value = dataset_with_random_behavior.calc_on_policy_policy_value(\n",
    "    reward=bandit_feedback_with_random_behavior[\"reward\"],\n",
    "    slate_id=bandit_feedback_with_random_behavior[\"slate_id\"],\n",
    ")\n",
    "print(random_policy_value)"
   ]
  },
  {
   "cell_type": "code",
   "execution_count": null,
   "metadata": {},
   "outputs": [],
   "source": []
  },
  {
   "cell_type": "markdown",
   "metadata": {},
   "source": [
    "## (2) Evaluation Policy Definition (Off-Policy Learning)\n",
    " After generating synthetic data, we now define the evaluation policy as follows:\n",
    " \n",
    "1. Generate logit values of three valuation policies (`random`, `optimal`, and `anti-optimal`).\n",
    "  - A `optimal` policy is defined by a policy that samples actions using`3 * base_expected_reward`.\n",
    "  - An `anti-optimal` policy is defined by a policy that samples actions using the sign inversion of `-3 * base_expected_reward`.\n",
    "2. Obtain pscores of the evaluation policies by `obtain_pscore_given_evaluation_policy_logit` method."
   ]
  },
  {
   "cell_type": "code",
   "execution_count": 8,
   "metadata": {},
   "outputs": [],
   "source": [
    "random_policy_logit_ = np.zeros((n_rounds_test, n_unique_action))"
   ]
  },
  {
   "cell_type": "code",
   "execution_count": 9,
   "metadata": {},
   "outputs": [],
   "source": [
    "base_expected_reward = dataset_with_random_behavior.base_reward_function(\n",
    "    context=bandit_feedback_with_random_behavior[\"context\"],\n",
    "    action_context=dataset_with_random_behavior.action_context,\n",
    "    random_state=dataset_with_random_behavior.random_state,\n",
    ")"
   ]
  },
  {
   "cell_type": "code",
   "execution_count": 10,
   "metadata": {},
   "outputs": [],
   "source": [
    "optimal_policy_logit_ = base_expected_reward * 3\n",
    "anti_optimal_policy_logit_ = -3 * base_expected_reward"
   ]
  },
  {
   "cell_type": "code",
   "execution_count": 11,
   "metadata": {},
   "outputs": [
    {
     "name": "stderr",
     "output_type": "stream",
     "text": [
      "[obtain_pscore_given_evaluation_policy_logit]: 100%|██████████| 10000/10000 [00:09<00:00, 1037.09it/s]\n"
     ]
    }
   ],
   "source": [
    "random_policy_pscores = dataset_with_random_behavior.obtain_pscore_given_evaluation_policy_logit(\n",
    "    action=bandit_feedback_with_random_behavior[\"action\"],\n",
    "    evaluation_policy_logit_=random_policy_logit_\n",
    ")"
   ]
  },
  {
   "cell_type": "code",
   "execution_count": 12,
   "metadata": {},
   "outputs": [
    {
     "name": "stderr",
     "output_type": "stream",
     "text": [
      "[obtain_pscore_given_evaluation_policy_logit]: 100%|██████████| 10000/10000 [00:10<00:00, 995.15it/s]\n"
     ]
    }
   ],
   "source": [
    "optimal_policy_pscores = dataset_with_random_behavior.obtain_pscore_given_evaluation_policy_logit(\n",
    "    action=bandit_feedback_with_random_behavior[\"action\"],\n",
    "    evaluation_policy_logit_=optimal_policy_logit_\n",
    ")"
   ]
  },
  {
   "cell_type": "code",
   "execution_count": 13,
   "metadata": {},
   "outputs": [
    {
     "name": "stderr",
     "output_type": "stream",
     "text": [
      "[obtain_pscore_given_evaluation_policy_logit]: 100%|██████████| 10000/10000 [00:10<00:00, 996.97it/s]\n"
     ]
    }
   ],
   "source": [
    "anti_optimal_policy_pscores = dataset_with_random_behavior.obtain_pscore_given_evaluation_policy_logit(\n",
    "    action=bandit_feedback_with_random_behavior[\"action\"],\n",
    "    evaluation_policy_logit_=anti_optimal_policy_logit_\n",
    ")"
   ]
  },
  {
   "cell_type": "code",
   "execution_count": null,
   "metadata": {},
   "outputs": [],
   "source": []
  },
  {
   "cell_type": "markdown",
   "metadata": {},
   "source": [
    "## (3) Off-Policy Evaluation (OPE)\n",
    "Our next step is OPE which attempts to estimate the performance of evaluation policies using the logged bandit feedback and OPE estimators.\n",
    "\n",
    "Here, we use the **SlateStandardIPS (SIPS)**, **SlateIndependentIPS (IIPS)**, and **SlateRewardInteractionIPS (RIPS)** estimators and visualize the OPE results."
   ]
  },
  {
   "cell_type": "code",
   "execution_count": 14,
   "metadata": {
    "tags": []
   },
   "outputs": [],
   "source": [
    "# estimate the policy value of the evaluation policies based on their action choice probabilities\n",
    "# it is possible to set multiple OPE estimators to the `ope_estimators` argument\n",
    "\n",
    "sips = SlateStandardIPS(len_list=len_list)\n",
    "iips = SlateIndependentIPS(len_list=len_list)\n",
    "rips = SlateRewardInteractionIPS(len_list=len_list)\n",
    "\n",
    "ope = SlateOffPolicyEvaluation(\n",
    "    bandit_feedback=bandit_feedback_with_random_behavior,\n",
    "    ope_estimators=[sips, iips, rips]\n",
    ")"
   ]
  },
  {
   "cell_type": "code",
   "execution_count": 15,
   "metadata": {},
   "outputs": [
    {
     "name": "stdout",
     "output_type": "stream",
     "text": [
      "          mean  95.0% CI (lower)  95.0% CI (upper) policy_name\n",
      "sips  1.836816            1.8205          1.852505      random\n",
      "iips  1.836816            1.8205          1.852505      random\n",
      "rips  1.836816            1.8205          1.852505      random \n",
      "\n"
     ]
    },
    {
     "data": {
      "image/png": "[encoded data removed]",
      "text/plain": [
       "<Figure size 576x432 with 1 Axes>"
      ]
     },
     "metadata": {},
     "output_type": "display_data"
    }
   ],
   "source": [
    "_, estimated_interval_random = ope.summarize_off_policy_estimates(\n",
    "    evaluation_policy_pscore=random_policy_pscores[0],\n",
    "    evaluation_policy_pscore_item_position=random_policy_pscores[1],\n",
    "    evaluation_policy_pscore_cascade=random_policy_pscores[2],\n",
    "    alpha=0.05,\n",
    "    n_bootstrap_samples=1000,\n",
    "    random_state=dataset_with_random_behavior.random_state,\n",
    ")\n",
    "estimated_interval_random[\"policy_name\"] = \"random\"\n",
    "\n",
    "print(estimated_interval_random, '\\n')\n",
    "# visualize estimated policy values of Uniform Random by the three OPE estimators\n",
    "# and their 95% confidence intervals (estimated by nonparametric bootstrap method)\n",
    "ope.visualize_off_policy_estimates(\n",
    "    evaluation_policy_pscore=random_policy_pscores[0],\n",
    "    evaluation_policy_pscore_item_position=random_policy_pscores[1],\n",
    "    evaluation_policy_pscore_cascade=random_policy_pscores[2],\n",
    "    alpha=0.05,\n",
    "    n_bootstrap_samples=1000, # number of resampling performed in the bootstrap procedure\n",
    "    random_state=dataset_with_random_behavior.random_state,\n",
    ")"
   ]
  },
  {
   "cell_type": "code",
   "execution_count": 16,
   "metadata": {},
   "outputs": [
    {
     "name": "stdout",
     "output_type": "stream",
     "text": [
      "          mean  95.0% CI (lower)  95.0% CI (upper) policy_name\n",
      "sips  1.830555          1.803695          1.860548     optimal\n",
      "iips  1.843117          1.825576          1.859695     optimal\n",
      "rips  1.838866          1.815574          1.862451     optimal \n",
      "\n"
     ]
    },
    {
     "data": {
      "image/png": "[encoded data removed]",
      "text/plain": [
       "<Figure size 576x432 with 1 Axes>"
      ]
     },
     "metadata": {},
     "output_type": "display_data"
    }
   ],
   "source": [
    "_, estimated_interval_optimal = ope.summarize_off_policy_estimates(\n",
    "    evaluation_policy_pscore=optimal_policy_pscores[0],\n",
    "    evaluation_policy_pscore_item_position=optimal_policy_pscores[1],\n",
    "    evaluation_policy_pscore_cascade=optimal_policy_pscores[2],\n",
    "    alpha=0.05,\n",
    "    n_bootstrap_samples=1000,\n",
    "    random_state=dataset_with_random_behavior.random_state,\n",
    ")\n",
    "\n",
    "estimated_interval_optimal[\"policy_name\"] = \"optimal\"\n",
    "\n",
    "print(estimated_interval_optimal, '\\n')\n",
    "# visualize estimated policy values of Optimal by the three OPE estimators\n",
    "# and their 95% confidence intervals (estimated by nonparametric bootstrap method)\n",
    "ope.visualize_off_policy_estimates(\n",
    "    evaluation_policy_pscore=optimal_policy_pscores[0],\n",
    "    evaluation_policy_pscore_item_position=optimal_policy_pscores[1],\n",
    "    evaluation_policy_pscore_cascade=optimal_policy_pscores[2],\n",
    "    alpha=0.05,\n",
    "    n_bootstrap_samples=1000, # number of resampling performed in the bootstrap procedure\n",
    "    random_state=dataset_with_random_behavior.random_state,\n",
    ")"
   ]
  },
  {
   "cell_type": "code",
   "execution_count": 17,
   "metadata": {},
   "outputs": [
    {
     "name": "stdout",
     "output_type": "stream",
     "text": [
      "          mean  95.0% CI (lower)  95.0% CI (upper)   policy_name\n",
      "sips  1.854516          1.829643          1.877320  anti-optimal\n",
      "iips  1.832793          1.815842          1.848599  anti-optimal\n",
      "rips  1.844397          1.824965          1.864795  anti-optimal \n",
      "\n"
     ]
    },
    {
     "data": {
      "image/png": "[encoded data removed]",
      "text/plain": [
       "<Figure size 576x432 with 1 Axes>"
      ]
     },
     "metadata": {},
     "output_type": "display_data"
    }
   ],
   "source": [
    "_, estimated_interval_anti_optimal = ope.summarize_off_policy_estimates(\n",
    "    evaluation_policy_pscore=anti_optimal_policy_pscores[0],\n",
    "    evaluation_policy_pscore_item_position=anti_optimal_policy_pscores[1],\n",
    "    evaluation_policy_pscore_cascade=anti_optimal_policy_pscores[2],\n",
    "    alpha=0.05,\n",
    "    n_bootstrap_samples=1000,\n",
    "    random_state=dataset_with_random_behavior.random_state,\n",
    ")\n",
    "estimated_interval_anti_optimal[\"policy_name\"] = \"anti-optimal\"\n",
    "\n",
    "print(estimated_interval_anti_optimal, '\\n')\n",
    "# visualize estimated policy values of Anti-optimal by the three OPE estimators\n",
    "# and their 95% confidence intervals (estimated by nonparametric bootstrap method)\n",
    "ope.visualize_off_policy_estimates(\n",
    "    evaluation_policy_pscore=anti_optimal_policy_pscores[0],\n",
    "    evaluation_policy_pscore_item_position=anti_optimal_policy_pscores[1],\n",
    "    evaluation_policy_pscore_cascade=anti_optimal_policy_pscores[2],\n",
    "    alpha=0.05,\n",
    "    n_bootstrap_samples=1000, # number of resampling performed in the bootstrap procedure\n",
    "    random_state=dataset_with_random_behavior.random_state,\n",
    ")"
   ]
  },
  {
   "cell_type": "code",
   "execution_count": null,
   "metadata": {},
   "outputs": [],
   "source": []
  },
  {
   "cell_type": "markdown",
   "metadata": {},
   "source": [
    "## (4) Evaluation of OPE estimators\n",
    "Our final step is **the evaluation of OPE**, which evaluates and compares the estimation accuracy of OPE estimators.\n",
    "\n",
    "With synthetic slate data, we can calculate the policy value of the evaluation policies. \n",
    "Therefore, we can compare the policy values estimated by OPE estimators with the ground-turths to evaluate the accuracy of OPE."
   ]
  },
  {
   "cell_type": "code",
   "execution_count": 18,
   "metadata": {},
   "outputs": [
    {
     "name": "stderr",
     "output_type": "stream",
     "text": [
      "[calc_ground_truth_policy_value (pscore)]: 100%|██████████| 10000/10000 [00:04<00:00, 2268.03it/s]\n",
      "[calc_ground_truth_policy_value (expected reward), batch_size=3334]: 100%|██████████| 3/3 [00:01<00:00,  1.64it/s]\n"
     ]
    },
    {
     "data": {
      "text/plain": [
       "1.837144428308276"
      ]
     },
     "execution_count": 18,
     "metadata": {},
     "output_type": "execute_result"
    }
   ],
   "source": [
    "ground_truth_policy_value_random = dataset_with_random_behavior.calc_ground_truth_policy_value(\n",
    "    context=bandit_feedback_with_random_behavior[\"context\"],\n",
    "    evaluation_policy_logit_=random_policy_logit_\n",
    ")\n",
    "ground_truth_policy_value_random"
   ]
  },
  {
   "cell_type": "code",
   "execution_count": 19,
   "metadata": {},
   "outputs": [
    {
     "name": "stderr",
     "output_type": "stream",
     "text": [
      "[calc_ground_truth_policy_value (pscore)]: 100%|██████████| 10000/10000 [00:04<00:00, 2177.17it/s]\n",
      "[calc_ground_truth_policy_value (expected reward), batch_size=3334]: 100%|██████████| 3/3 [00:01<00:00,  1.71it/s]\n"
     ]
    },
    {
     "data": {
      "text/plain": [
       "1.8474242800908984"
      ]
     },
     "execution_count": 19,
     "metadata": {},
     "output_type": "execute_result"
    }
   ],
   "source": [
    "ground_truth_policy_value_optimal = dataset_with_random_behavior.calc_ground_truth_policy_value(\n",
    "    context=bandit_feedback_with_random_behavior[\"context\"],\n",
    "    evaluation_policy_logit_=optimal_policy_logit_\n",
    ")\n",
    "ground_truth_policy_value_optimal"
   ]
  },
  {
   "cell_type": "code",
   "execution_count": 20,
   "metadata": {},
   "outputs": [
    {
     "name": "stderr",
     "output_type": "stream",
     "text": [
      "[calc_ground_truth_policy_value (pscore)]: 100%|██████████| 10000/10000 [00:04<00:00, 2176.73it/s]\n",
      "[calc_ground_truth_policy_value (expected reward), batch_size=3334]: 100%|██████████| 3/3 [00:01<00:00,  1.71it/s]\n"
     ]
    },
    {
     "data": {
      "text/plain": [
       "1.8352871486686428"
      ]
     },
     "execution_count": 20,
     "metadata": {},
     "output_type": "execute_result"
    }
   ],
   "source": [
    "ground_truth_policy_value_anti_optimal = dataset_with_random_behavior.calc_ground_truth_policy_value(\n",
    "    context=bandit_feedback_with_random_behavior[\"context\"],\n",
    "    evaluation_policy_logit_=anti_optimal_policy_logit_\n",
    ")\n",
    "ground_truth_policy_value_anti_optimal"
   ]
  },
  {
   "cell_type": "code",
   "execution_count": 21,
   "metadata": {},
   "outputs": [],
   "source": [
    "estimated_interval_random[\"ground_truth\"] = ground_truth_policy_value_random\n",
    "estimated_interval_optimal[\"ground_truth\"] = ground_truth_policy_value_optimal\n",
    "estimated_interval_anti_optimal[\"ground_truth\"] = ground_truth_policy_value_anti_optimal\n",
    "\n",
    "estimated_intervals = pd.concat(\n",
    "    [\n",
    "        estimated_interval_random,\n",
    "        estimated_interval_optimal,\n",
    "        estimated_interval_anti_optimal\n",
    "    ]\n",
    ")"
   ]
  },
  {
   "cell_type": "code",
   "execution_count": 22,
   "metadata": {},
   "outputs": [
    {
     "data": {
      "text/html": [
       "<div>\n",
       "<style scoped>\n",
       "    .dataframe tbody tr th:only-of-type {\n",
       "        vertical-align: middle;\n",
       "    }\n",
       "\n",
       "    .dataframe tbody tr th {\n",
       "        vertical-align: top;\n",
       "    }\n",
       "\n",
       "    .dataframe thead th {\n",
       "        text-align: right;\n",
       "    }\n",
       "</style>\n",
       "<table border=\"1\" class=\"dataframe\">\n",
       "  <thead>\n",
       "    <tr style=\"text-align: right;\">\n",
       "      <th></th>\n",
       "      <th>mean</th>\n",
       "      <th>95.0% CI (lower)</th>\n",
       "      <th>95.0% CI (upper)</th>\n",
       "      <th>policy_name</th>\n",
       "      <th>ground_truth</th>\n",
       "    </tr>\n",
       "  </thead>\n",
       "  <tbody>\n",
       "    <tr>\n",
       "      <th>sips</th>\n",
       "      <td>1.836816</td>\n",
       "      <td>1.820500</td>\n",
       "      <td>1.852505</td>\n",
       "      <td>random</td>\n",
       "      <td>1.837144</td>\n",
       "    </tr>\n",
       "    <tr>\n",
       "      <th>iips</th>\n",
       "      <td>1.836816</td>\n",
       "      <td>1.820500</td>\n",
       "      <td>1.852505</td>\n",
       "      <td>random</td>\n",
       "      <td>1.837144</td>\n",
       "    </tr>\n",
       "    <tr>\n",
       "      <th>rips</th>\n",
       "      <td>1.836816</td>\n",
       "      <td>1.820500</td>\n",
       "      <td>1.852505</td>\n",
       "      <td>random</td>\n",
       "      <td>1.837144</td>\n",
       "    </tr>\n",
       "    <tr>\n",
       "      <th>sips</th>\n",
       "      <td>1.830555</td>\n",
       "      <td>1.803695</td>\n",
       "      <td>1.860548</td>\n",
       "      <td>optimal</td>\n",
       "      <td>1.847424</td>\n",
       "    </tr>\n",
       "    <tr>\n",
       "      <th>iips</th>\n",
       "      <td>1.843117</td>\n",
       "      <td>1.825576</td>\n",
       "      <td>1.859695</td>\n",
       "      <td>optimal</td>\n",
       "      <td>1.847424</td>\n",
       "    </tr>\n",
       "    <tr>\n",
       "      <th>rips</th>\n",
       "      <td>1.838866</td>\n",
       "      <td>1.815574</td>\n",
       "      <td>1.862451</td>\n",
       "      <td>optimal</td>\n",
       "      <td>1.847424</td>\n",
       "    </tr>\n",
       "    <tr>\n",
       "      <th>sips</th>\n",
       "      <td>1.854516</td>\n",
       "      <td>1.829643</td>\n",
       "      <td>1.877320</td>\n",
       "      <td>anti-optimal</td>\n",
       "      <td>1.835287</td>\n",
       "    </tr>\n",
       "    <tr>\n",
       "      <th>iips</th>\n",
       "      <td>1.832793</td>\n",
       "      <td>1.815842</td>\n",
       "      <td>1.848599</td>\n",
       "      <td>anti-optimal</td>\n",
       "      <td>1.835287</td>\n",
       "    </tr>\n",
       "    <tr>\n",
       "      <th>rips</th>\n",
       "      <td>1.844397</td>\n",
       "      <td>1.824965</td>\n",
       "      <td>1.864795</td>\n",
       "      <td>anti-optimal</td>\n",
       "      <td>1.835287</td>\n",
       "    </tr>\n",
       "  </tbody>\n",
       "</table>\n",
       "</div>"
      ],
      "text/plain": [
       "          mean  95.0% CI (lower)  95.0% CI (upper)   policy_name  ground_truth\n",
       "sips  1.836816          1.820500          1.852505        random      1.837144\n",
       "iips  1.836816          1.820500          1.852505        random      1.837144\n",
       "rips  1.836816          1.820500          1.852505        random      1.837144\n",
       "sips  1.830555          1.803695          1.860548       optimal      1.847424\n",
       "iips  1.843117          1.825576          1.859695       optimal      1.847424\n",
       "rips  1.838866          1.815574          1.862451       optimal      1.847424\n",
       "sips  1.854516          1.829643          1.877320  anti-optimal      1.835287\n",
       "iips  1.832793          1.815842          1.848599  anti-optimal      1.835287\n",
       "rips  1.844397          1.824965          1.864795  anti-optimal      1.835287"
      ]
     },
     "execution_count": 22,
     "metadata": {},
     "output_type": "execute_result"
    }
   ],
   "source": [
    "estimated_intervals"
   ]
  },
  {
   "cell_type": "markdown",
   "metadata": {},
   "source": [
    "We can confirm that the three OPE estimators return the same results when the behavior policy and the evaluation policy is the same, and the estimates are quite similar to the `random_policy_value` calcurated above.\n",
    "\n",
    "We can also observe that the performance of OPE estimators are as follows in this simulation: `IIPS > RIPS > SIPS`."
   ]
  },
  {
   "cell_type": "code",
   "execution_count": 23,
   "metadata": {},
   "outputs": [
    {
     "data": {
      "text/html": [
       "<div>\n",
       "<style scoped>\n",
       "    .dataframe tbody tr th:only-of-type {\n",
       "        vertical-align: middle;\n",
       "    }\n",
       "\n",
       "    .dataframe tbody tr th {\n",
       "        vertical-align: top;\n",
       "    }\n",
       "\n",
       "    .dataframe thead th {\n",
       "        text-align: right;\n",
       "    }\n",
       "</style>\n",
       "<table border=\"1\" class=\"dataframe\">\n",
       "  <thead>\n",
       "    <tr style=\"text-align: right;\">\n",
       "      <th></th>\n",
       "      <th>relative-ee</th>\n",
       "    </tr>\n",
       "  </thead>\n",
       "  <tbody>\n",
       "    <tr>\n",
       "      <th>sips</th>\n",
       "      <td>0.000296</td>\n",
       "    </tr>\n",
       "    <tr>\n",
       "      <th>iips</th>\n",
       "      <td>0.000296</td>\n",
       "    </tr>\n",
       "    <tr>\n",
       "      <th>rips</th>\n",
       "      <td>0.000296</td>\n",
       "    </tr>\n",
       "  </tbody>\n",
       "</table>\n",
       "</div>"
      ],
      "text/plain": [
       "      relative-ee\n",
       "sips     0.000296\n",
       "iips     0.000296\n",
       "rips     0.000296"
      ]
     },
     "execution_count": 23,
     "metadata": {},
     "output_type": "execute_result"
    }
   ],
   "source": [
    "# evaluate the estimation performances of OPE estimators \n",
    "# by comparing the estimated policy values and its ground-truth.\n",
    "# `summarize_estimators_comparison` returns a pandas dataframe containing estimation performances of given estimators \n",
    "\n",
    "relative_ee_for_random_evaluation_policy = ope.summarize_estimators_comparison(\n",
    "    ground_truth_policy_value=ground_truth_policy_value_random,\n",
    "    evaluation_policy_pscore=random_policy_pscores[0],\n",
    "    evaluation_policy_pscore_item_position=random_policy_pscores[1],\n",
    "    evaluation_policy_pscore_cascade=random_policy_pscores[2],\n",
    ")\n",
    "relative_ee_for_random_evaluation_policy"
   ]
  },
  {
   "cell_type": "code",
   "execution_count": 24,
   "metadata": {},
   "outputs": [
    {
     "data": {
      "text/html": [
       "<div>\n",
       "<style scoped>\n",
       "    .dataframe tbody tr th:only-of-type {\n",
       "        vertical-align: middle;\n",
       "    }\n",
       "\n",
       "    .dataframe tbody tr th {\n",
       "        vertical-align: top;\n",
       "    }\n",
       "\n",
       "    .dataframe thead th {\n",
       "        text-align: right;\n",
       "    }\n",
       "</style>\n",
       "<table border=\"1\" class=\"dataframe\">\n",
       "  <thead>\n",
       "    <tr style=\"text-align: right;\">\n",
       "      <th></th>\n",
       "      <th>relative-ee</th>\n",
       "    </tr>\n",
       "  </thead>\n",
       "  <tbody>\n",
       "    <tr>\n",
       "      <th>sips</th>\n",
       "      <td>0.009303</td>\n",
       "    </tr>\n",
       "    <tr>\n",
       "      <th>iips</th>\n",
       "      <td>0.002470</td>\n",
       "    </tr>\n",
       "    <tr>\n",
       "      <th>rips</th>\n",
       "      <td>0.004732</td>\n",
       "    </tr>\n",
       "  </tbody>\n",
       "</table>\n",
       "</div>"
      ],
      "text/plain": [
       "      relative-ee\n",
       "sips     0.009303\n",
       "iips     0.002470\n",
       "rips     0.004732"
      ]
     },
     "execution_count": 24,
     "metadata": {},
     "output_type": "execute_result"
    }
   ],
   "source": [
    "# evaluate the estimation performances of OPE estimators \n",
    "# by comparing the estimated policy values and its ground-truth.\n",
    "# `summarize_estimators_comparison` returns a pandas dataframe containing estimation performances of given estimators \n",
    "\n",
    "relative_ee_for_optimal_evaluation_policy = ope.summarize_estimators_comparison(\n",
    "    ground_truth_policy_value=ground_truth_policy_value_optimal,\n",
    "    evaluation_policy_pscore=optimal_policy_pscores[0],\n",
    "    evaluation_policy_pscore_item_position=optimal_policy_pscores[1],\n",
    "    evaluation_policy_pscore_cascade=optimal_policy_pscores[2],\n",
    ")\n",
    "relative_ee_for_optimal_evaluation_policy"
   ]
  },
  {
   "cell_type": "code",
   "execution_count": 25,
   "metadata": {},
   "outputs": [
    {
     "data": {
      "text/html": [
       "<div>\n",
       "<style scoped>\n",
       "    .dataframe tbody tr th:only-of-type {\n",
       "        vertical-align: middle;\n",
       "    }\n",
       "\n",
       "    .dataframe tbody tr th {\n",
       "        vertical-align: top;\n",
       "    }\n",
       "\n",
       "    .dataframe thead th {\n",
       "        text-align: right;\n",
       "    }\n",
       "</style>\n",
       "<table border=\"1\" class=\"dataframe\">\n",
       "  <thead>\n",
       "    <tr style=\"text-align: right;\">\n",
       "      <th></th>\n",
       "      <th>relative-ee</th>\n",
       "    </tr>\n",
       "  </thead>\n",
       "  <tbody>\n",
       "    <tr>\n",
       "      <th>sips</th>\n",
       "      <td>0.010281</td>\n",
       "    </tr>\n",
       "    <tr>\n",
       "      <th>iips</th>\n",
       "      <td>0.001506</td>\n",
       "    </tr>\n",
       "    <tr>\n",
       "      <th>rips</th>\n",
       "      <td>0.004751</td>\n",
       "    </tr>\n",
       "  </tbody>\n",
       "</table>\n",
       "</div>"
      ],
      "text/plain": [
       "      relative-ee\n",
       "sips     0.010281\n",
       "iips     0.001506\n",
       "rips     0.004751"
      ]
     },
     "execution_count": 25,
     "metadata": {},
     "output_type": "execute_result"
    }
   ],
   "source": [
    "# evaluate the estimation performances of OPE estimators \n",
    "# by comparing the estimated policy values and its ground-truth.\n",
    "# `summarize_estimators_comparison` returns a pandas dataframe containing estimation performances of given estimators \n",
    "\n",
    "relative_ee_for_anti_optimal_evaluation_policy = ope.summarize_estimators_comparison(\n",
    "    ground_truth_policy_value=ground_truth_policy_value_anti_optimal,\n",
    "    evaluation_policy_pscore=anti_optimal_policy_pscores[0],\n",
    "    evaluation_policy_pscore_item_position=anti_optimal_policy_pscores[1],\n",
    "    evaluation_policy_pscore_cascade=anti_optimal_policy_pscores[2],\n",
    ")\n",
    "relative_ee_for_anti_optimal_evaluation_policy"
   ]
  },
  {
   "cell_type": "markdown",
   "metadata": {},
   "source": [
    "The variance of OPE estimators is as follows: `SIPS > RIPS > IIPS`."
   ]
  },
  {
   "cell_type": "code",
   "execution_count": 26,
   "metadata": {},
   "outputs": [],
   "source": [
    "estimated_intervals[\"errbar_length\"] = (\n",
    "    estimated_intervals.drop([\"mean\", \"policy_name\", \"ground_truth\"], axis=1).diff(axis=1).iloc[:, -1].abs()\n",
    ")"
   ]
  },
  {
   "cell_type": "code",
   "execution_count": 27,
   "metadata": {},
   "outputs": [
    {
     "data": {
      "text/plain": [
       "(1.7, 1.9)"
      ]
     },
     "execution_count": 27,
     "metadata": {},
     "output_type": "execute_result"
    },
    {
     "data": {
      "image/png": "[encoded data removed]",
      "text/plain": [
       "<Figure size 648x216 with 3 Axes>"
      ]
     },
     "metadata": {},
     "output_type": "display_data"
    }
   ],
   "source": [
    "alpha = 0.05\n",
    "plt.style.use(\"ggplot\")\n",
    "\n",
    "def errplot(x, y, yerr, **kwargs):\n",
    "    ax = plt.gca()\n",
    "    data = kwargs.pop(\"data\")\n",
    "    data.plot(x=x, y=y, yerr=yerr, kind=\"bar\", ax=ax, **kwargs)\n",
    "    ax.hlines(data[\"ground_truth\"].iloc[0], -1, len(x)+1)\n",
    "#     ax.set_xlabel(\"OPE estimator\")\n",
    "    \n",
    "g = sns.FacetGrid(\n",
    "    estimated_intervals.reset_index().rename(columns={\"index\": \"OPE estimator\", \"mean\": \"Policy value\"}),\n",
    "    col=\"policy_name\"\n",
    ")\n",
    "g.map_dataframe(errplot, \"OPE estimator\", \"Policy value\", \"errbar_length\")\n",
    "plt.ylim((1.7, 1.9))"
   ]
  },
  {
   "cell_type": "code",
   "execution_count": null,
   "metadata": {},
   "outputs": [],
   "source": []
  },
  {
   "cell_type": "markdown",
   "metadata": {},
   "source": [
    "It is surprising that `RIPS` estimator does not achieve the best performance even if the reward structure is not independent. If we run a simulation where the reward of each position depends heavily on those of other positions, `RIPS`estimator could achieve the best performance.\n",
    "<!-- Please see [../examples/synthetic_slate](../synthetic_slate) for a more sophisticated example of the evaluation of OPE with synthetic slate bandit data. -->"
   ]
  },
  {
   "cell_type": "code",
   "execution_count": null,
   "metadata": {},
   "outputs": [],
   "source": []
  }
 ],
 "metadata": {
  "kernelspec": {
   "display_name": "Python 3",
   "language": "python",
   "name": "python3"
  },
  "language_info": {
   "codemirror_mode": {
    "name": "ipython",
    "version": 3
   },
   "file_extension": ".py",
   "mimetype": "text/x-python",
   "name": "python",
   "nbconvert_exporter": "python",
   "pygments_lexer": "ipython3",
   "version": "3.9.1"
  }
 },
 "nbformat": 4,
 "nbformat_minor": 2
}
